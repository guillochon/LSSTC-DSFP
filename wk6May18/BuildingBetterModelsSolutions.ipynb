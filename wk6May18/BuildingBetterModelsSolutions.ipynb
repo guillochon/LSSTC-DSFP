{
 "cells": [
  {
   "cell_type": "markdown",
   "metadata": {},
   "source": [
    "# Building Better Models for Inference:\n",
    "\n",
    "# How to construct practical models for existing tools\n",
    "\n",
    "**Version 0.1**\n",
    "\n",
    "In this notebook, we will walk through fitting a real light curve from a tidal disruption event (TDE), the destruction and accretion of a star by a supermassive black hole, using two different approaches.\n",
    "\n",
    "As mentioned in the lecture, there are different kinds of models one can apply to a set of data. A code I have written, MOSFiT, is an attempt to provide a framework for building models that can be used within other optimizers/samplers. While MOSFiT can run independently, in the notebook below we will simple be using it as a \"black box\" function for use in external optimization routines.\n",
    "\n",
    "Our first approach will be using the `tde` model in MOSFiT. This model uses both interpolation tables and integrations, making an analytical derivative not available. Our second approach will be to construct a simple analytical function to fit the same data. We will then be comparing performance, both in terms of the quality of the resulting solution, but also the speed by which the solution was computed, and in how we relate our solution to what transpired in this event.\n",
    "\n",
    "* * *\n",
    "\n",
    "By J Guillochon (Harvard)"
   ]
  },
  {
   "cell_type": "markdown",
   "metadata": {},
   "source": [
    "*We will be mostly using the mosfit package and scipy routines. Both are available via conda.*"
   ]
  },
  {
   "cell_type": "code",
   "execution_count": null,
   "metadata": {
    "collapsed": false
   },
   "outputs": [],
   "source": [
    "import numpy as np\n",
    "import matplotlib.pyplot as plt\n",
    "import mosfit\n",
    "import time\n",
    "\n",
    "# Disable \"retina\" line below if your monitor doesn't support it.\n",
    "%matplotlib inline\n",
    "%config InlineBackend.figure_format = 'retina'"
   ]
  },
  {
   "cell_type": "markdown",
   "metadata": {},
   "source": [
    "## Problem 1) Fitting data with a blackbox model"
   ]
  },
  {
   "cell_type": "markdown",
   "metadata": {},
   "source": [
    "In this first cell, we load the data of a particularly well-sampled tidal disruption event from the Pan-STARRS survey, PS1-10jh. This even is notable because it was caught on the rise, peak, and decay, with solid cadence."
   ]
  },
  {
   "cell_type": "code",
   "execution_count": null,
   "metadata": {
    "collapsed": false
   },
   "outputs": [],
   "source": [
    "# Load the data from the Open Supernova Catalog.\n",
    "# Note: if loading the data doesn't work, I have a local copy.\n",
    "my_printer = mosfit.printer.Printer(quiet=True)  # just to avoid spamming from MOSFiT routines.\n",
    "my_fetcher = mosfit.fetcher.Fetcher()\n",
    "\n",
    "fetched = my_fetcher.fetch('BBM_data/PS1-10jh.json')[0]\n",
    "\n",
    "my_model = mosfit.model.Model(model='tde', printer=my_printer)\n",
    "fetched_data = my_fetcher.load_data(fetched)\n",
    "my_model.load_data(\n",
    "    fetched_data, event_name=fetched['name'],\n",
    "    exclude_bands=['u', 'r', 'i', 'z', 'F225W', 'NUV'],  # ignore all bands but g when computing ln_likelihood.\n",
    "    smooth_times=100,  # for plotting smooth fits later\n",
    "    user_fixed_parameters=['covariance'])  # don't use GP objective function.\n",
    "\n",
    "# Generate 100 random parameter realizations.\n",
    "x = np.random.rand(100, my_model.get_num_free_parameters())\n",
    "\n",
    "# Compute time per function call.\n",
    "start_time = time.time()\n",
    "ln_likes = [my_model.ln_likelihood(xx) for xx in x]\n",
    "stop_time = time.time()\n",
    "\n",
    "print('{}s per function call.'.format((stop_time - start_time)/100.0))"
   ]
  },
  {
   "cell_type": "markdown",
   "metadata": {},
   "source": [
    "**Problem 1a**\n",
    "\n",
    "First, let's visualize the data we have downloaded. MOSFiT loads data in a format conforming to the OAC schema specification, which is a JSON dictionary where the top level of the structure is each event's name. The code snippet below will load a JSON dictionary for the event in question, plot the full time series of photometric data (with error bars) within the `photometry` key below.\n",
    "\n",
    "*Hint: The photometry is a mixture of different data types, and not every entry has the same set of keys. Optical/UV/IR photometry will always have a `band` key. Ignore upper limits (indicated with the `upperlimit` attribute). Use the `.get()` function liberally, and make sure everything is a `float`!*"
   ]
  },
  {
   "cell_type": "code",
   "execution_count": null,
   "metadata": {
    "collapsed": false
   },
   "outputs": [],
   "source": [
    "times = []\n",
    "mags = []\n",
    "errs = []\n",
    "for x in fetched_data[fetched['name']]['photometry']:\n",
    "    if x.get('band') != 'g' or x.get('upperlimit') or not x.get('e_magnitude'):\n",
    "        continue\n",
    "    times.append(float(x['time']))\n",
    "    mags.append(float(x['magnitude']))\n",
    "    errs.append(float(x['e_magnitude']))\n",
    "\n",
    "plt.errorbar(times, mags, yerr=errs, fmt='o')\n",
    "plt.gca().invert_yaxis()\n",
    "plt.show()"
   ]
  },
  {
   "cell_type": "markdown",
   "metadata": {},
   "source": [
    "**Problem 1b**\n",
    "\n",
    "We know what the data looks like, and we've loaded a model that can be used to fit the data which computes a likelihood. Let's minimize the parameters of this model using various `scipy.optimize` routines. Note that since we are trying to **maximize** the likelihood, we have constructed a wrapper function around `ln_likelihood`, `my_func`, to reverse its sign, and to handle bad function evaluations.\n",
    "\n",
    "Most `optimize` routines in `scipy` require a derivative. Since we don't have this available, `scipy` must construct an approximate one, unless the method doesn't require a gradient to be computed (like `differential_evolution`). For this first sub-problem, optimize `my_func` using `differential_evolution`.\n",
    "\n",
    "*Hints: Each variable is bounded to the range (0, 1), but problems can arise if an optimizer attempts to compute values outside or right at the boundaries. Therefore, it is recommended to use a bounded optimizer in `scipy`, where the bounds do **not include** 0 or 1.*"
   ]
  },
  {
   "cell_type": "code",
   "execution_count": null,
   "metadata": {
    "collapsed": false
   },
   "outputs": [],
   "source": [
    "import scipy\n",
    "\n",
    "def my_func(x):\n",
    "    try:\n",
    "        fx = -float(my_model.ln_likelihood(x))\n",
    "    except:\n",
    "        fx = np.inf\n",
    "    return fx\n",
    "\n",
    "eps = 0.00001\n",
    "bounds = np.full((my_model.get_num_free_parameters(), 2), (eps, 1.0 - eps))\n",
    "results = scipy.optimize.differential_evolution(my_func, bounds=bounds, disp=True, polish=False, maxiter=100)\n",
    "best_x = results.x\n",
    "\n",
    "print('All done! Best score: `{}`.'.format(-results.fun))"
   ]
  },
  {
   "cell_type": "markdown",
   "metadata": {},
   "source": [
    "This might take a while; try to limit the execution time of the above to ~5 minutes by playing with the `maxiter` and similar options of the `scipy` optimizers.\n",
    "\n",
    "Once the above has finished evaluating, compare the score you got to your neighbors. Is there a significant difference between your scores? Let's plot your result against the data.\n",
    "\n",
    "Model output is provided in the `output` object below, the format is a dictionary of arrays of the same length. The times of observation are in the `times` array, and magnitudes are in the `model_observations` array.\n",
    "\n",
    "*Hint: `times` is given relative to the time of the first detection, so add `min(times)` to your time to overplot onto the data.*"
   ]
  },
  {
   "cell_type": "code",
   "execution_count": null,
   "metadata": {},
   "outputs": [],
   "source": [
    "output = my_model.run_stack(best_x, root='output')\n",
    "mtimes = []\n",
    "mmags = []\n",
    "\n",
    "for ti, t in enumerate(output['times']):\n",
    "    mtimes.append(t + min(times))\n",
    "    mmags.append(output['model_observations'][ti])\n",
    "\n",
    "plt.errorbar(times, mags, yerr=errs, fmt='o')\n",
    "plt.plot(mtimes, mmags)\n",
    "plt.xlim(min(times) - 10, max(times) + 10)\n",
    "plt.ylim(min(mags) - 0.5, max(mags) + 0.5)\n",
    "plt.gca().invert_yaxis()\n",
    "plt.show()"
   ]
  },
  {
   "cell_type": "markdown",
   "metadata": {},
   "source": [
    "**Problem 1c**\n",
    "\n",
    "Try optimizing the same function using **another** minimization routine in scipy that can take a derivative as an input (examples: `L-BFGS-B`, `SLSQP`, `basinhopping`, etc.)."
   ]
  },
  {
   "cell_type": "code",
   "execution_count": null,
   "metadata": {},
   "outputs": [],
   "source": [
    "guess = eps + ((1.0 - 2.0 * eps) * np.random.rand(my_model.get_num_free_parameters()))\n",
    "\n",
    "results = scipy.optimize.basinhopping(my_func, guess, disp=True, niter=100, minimizer_kwargs={\n",
    "    'method': \"SLSQP\", 'bounds': bounds})\n",
    "best_x = results.x\n",
    "\n",
    "print('All done! Best score: `{}`.'.format(-results.fun))"
   ]
  },
  {
   "cell_type": "markdown",
   "metadata": {},
   "source": [
    "Now, plot the results of the above minimization alongside your original `differential_evolution` solution."
   ]
  },
  {
   "cell_type": "code",
   "execution_count": null,
   "metadata": {},
   "outputs": [],
   "source": [
    "output = my_model.run_stack(best_x, root='output')\n",
    "mtimes2 = []\n",
    "mmags2 = []\n",
    "\n",
    "for ti, t in enumerate(output['times']):\n",
    "    mtimes2.append(t + min(times))\n",
    "    mmags2.append(output['model_observations'][ti])\n",
    "\n",
    "plt.errorbar(times, mags, yerr=errs, fmt='o')\n",
    "plt.plot(mtimes, mmags)\n",
    "plt.plot(mtimes2, mmags2, c='r')\n",
    "plt.xlim(min(times) - 10, max(times) + 10)\n",
    "plt.ylim(min(mags) - 0.5, max(mags) + 0.5)\n",
    "plt.gca().invert_yaxis()\n",
    "plt.show()"
   ]
  },
  {
   "cell_type": "markdown",
   "metadata": {},
   "source": [
    "After this process, **some** of you **might** have gotten a good solution with a runtime of a few minutes. In practice, guaranteed convergence to the best solution can take a very long time. Whats more, we only attempted to find the **best** solution available, usually we are interested in posterior distributions that (usually) include the best solution. These take even longer to compute (tens of thousands of function evaluations for a problem of this size)."
   ]
  },
  {
   "cell_type": "markdown",
   "metadata": {},
   "source": [
    "## Problem 2\n",
    "\n",
    "Now, we'll construct our own simpler model that is **analytically differentiable**. We'll partly motivate the shape of this function based upon our knowledge of how tidal disruption events are expected to behave theoretically, but there will be limitations."
   ]
  },
  {
   "cell_type": "markdown",
   "metadata": {},
   "source": [
    "First, let's define a function that loosely mimics a tidal disruption event's temporal evolution. Tidal disruption events rise exponentially, then decay as a power-law. Canonically, the decay rate is -5/3, and the rise is very unconstrained, being mediated by complicated dynamics and accretion physics that have yet to be determined. So, we use the following agnostic form,"
   ]
  },
  {
   "cell_type": "markdown",
   "metadata": {},
   "source": [
    "$$L(t) = L_0 \\left(1-e^{-\\frac{t}{t_0}}\\right)^{\\alpha } \\left(\\frac{t}{t_0}\\right)^{-\\beta }.$$"
   ]
  },
  {
   "cell_type": "markdown",
   "metadata": {},
   "source": [
    "Tidal disruption observations are usually reported in magnitudes, thus the expression we'll actually compare against observations is"
   ]
  },
  {
   "cell_type": "markdown",
   "metadata": {},
   "source": [
    "$$m(t) = m_0 - 2.5 \\log_{10}\\left[\\left(1-e^{-\\frac{t}{t_0}}\\right)^{\\alpha } \\left(\\frac{t}{t_0}\\right)^{-\\beta }\\right].$$"
   ]
  },
  {
   "cell_type": "markdown",
   "metadata": {},
   "source": [
    "To calculate the likelihood, we want to subtract the above from the observations. We'll make the gross assumption that the color of a tidal disruption is constant in time (which turns out to not be a terrible assumption) and thus $L_{\\rm g}(t) \\propto L(t)$."
   ]
  },
  {
   "cell_type": "markdown",
   "metadata": {},
   "source": [
    "Our likelihood function will be defined as the product of the squares of differences between our model and observation,\n",
    "\n",
    "$$p = \\prod_i \\frac{1}{\\sqrt{2\\pi (\\sigma_i^2 + \\sigma^2)}} \\left[\\frac{\\left(m_{{\\rm g}, i} - \\bar{m}_{{\\rm g}, i}\\right)^2}{2\\left(\\sigma_i^2 + \\sigma^2\\right)}\\right],$$"
   ]
  },
  {
   "cell_type": "markdown",
   "metadata": {},
   "source": [
    "and thus our log likelihood is the sum of these squared differences, plus a separate sum for the variances,\n",
    "\n",
    "$$\\log p = -\\frac{1}{2} \\left\\{\\sum_i \\left[\\frac{\\left(m_{{\\rm g}, i} - \\bar{m}_{{\\rm g}, i}\\right)^2}{\\sigma_i^2 + \\sigma^2}\\right] + \\log 2\\pi \\left(\\sigma_i^2 + \\sigma^2\\right)\\right\\}.$$"
   ]
  },
  {
   "cell_type": "markdown",
   "metadata": {},
   "source": [
    "**Problem 2a**\n",
    "\n",
    "Write the above expression as a python function:"
   ]
  },
  {
   "cell_type": "code",
   "execution_count": 26,
   "metadata": {},
   "outputs": [],
   "source": [
    "def lf(alpha, beta, tau, t0, t):\n",
    "    return np.log(((1.0 - np.exp(-(t + t0) / tau)) ** alpha) * ((t + t0) / tau) ** (-beta))\n",
    "\n",
    "def analytic_m(x, tt):\n",
    "    m0, alpha, beta, tau, t0, sigma = tuple(x)\n",
    "    \n",
    "    t = np.array(tt)\n",
    "    \n",
    "    return m0 - 2.5 * lf(alpha, beta, tau, t0, t) / np.log(10.0)\n",
    "\n",
    "def analytic_f(x, tt, mm, vv):\n",
    "    m0, alpha, beta, tau, t0, sigma = tuple(x)\n",
    "    t = np.array(tt)\n",
    "    m = np.array(mm)\n",
    "    v = np.array(vv)\n",
    "    \n",
    "    value = 0.5 * np.sum((analytic_m(x, t) - m) ** 2 / (v ** 2 + sigma ** 2) + np.log(\n",
    "        2.0 * np.pi * (v ** 2 + sigma ** 2)))\n",
    "    \n",
    "    if np.isinf(value):\n",
    "        return np.inf\n",
    "\n",
    "    return value\n",
    "\n",
    "\n",
    "abounds = [\n",
    "    [0.0, 30.0],\n",
    "    [0.1, 50.0],\n",
    "    [0.1, 10.0],\n",
    "    [0.1, 200.0],\n",
    "    [0.1, 200.0],\n",
    "    [0.001, 1.0]\n",
    "]\n",
    "\n",
    "test_times = [1.0, 20.0]\n",
    "test_mags = [23.0, 19.0]\n",
    "test_errs = [0.1, 0.2]"
   ]
  },
  {
   "cell_type": "markdown",
   "metadata": {},
   "source": [
    "** Problem 2a **\n",
    "\n",
    "Compute the derivative for $\\log p$ (above expression) with respect to $m_0$ (Mathematica might be helpful here). Below are the derivatives for the other five free parameters $\\alpha$, $\\beta$, $\\tau$, $t_0$, and $\\sigma$:"
   ]
  },
  {
   "cell_type": "markdown",
   "metadata": {},
   "source": [
    "$$\n",
    "\\begin{align}\n",
    "\\frac{\\partial\\log p}{\\partial \\alpha} &= \\sum_i -\\frac{5 \\log \\left(1-e^{-\\frac{t+t_0}{\\tau }}\\right) \\left\\{\\log (100) (\\bar{m}-m_0)+5 \\log \\left[\\left(1-e^{-\\frac{t+t_0}{\\tau }}\\right)^{\\alpha } \\left(\\frac{t+t_0}{\\tau }\\right)^{-\\beta }\\right]\\right\\}}{4 \\log ^2(10) \\left(\\sigma_i^2+\\sigma^2\\right)}\\\\\n",
    "\\frac{\\partial\\log p}{\\partial \\beta} &= \\sum_i \\frac{5 \\log \\left(\\frac{t+t_0}{\\tau }\\right) \\left\\{\\log (100) (\\bar{m}-m_0)+5 \\log \\left[\\left(1-e^{-\\frac{t+t_0}{\\tau }}\\right)^{\\alpha } \\left(\\frac{t+t_0}{\\tau }\\right)^{-\\beta }\\right]\\right\\}}{4 \\log ^2(10) \\left(\\sigma_i^2+\\sigma^2\\right)}\\\\\n",
    "\\frac{\\partial\\log p}{\\partial \\tau} &= \\sum_i \\frac{5 \\left(\\alpha  (t+t_0)-\\beta  \\tau  \\left(e^{\\frac{t+t_0}{\\tau }}-1\\right)\\right) \\left(\\log (100) (\\bar{m}-m_0)+5 \\log \\left(\\left(1-e^{-\\frac{t+t_0}{\\tau }}\\right)^{\\alpha } \\left(\\frac{t+t_0}{\\tau }\\right)^{-\\beta }\\right)\\right)}{4 \\tau ^2 \\log ^2(10) \\left(\\sigma_i^2 + \\sigma^2\\right) \\left(e^{\\frac{t+t_0}{\\tau }}-1\\right)}\\\\\n",
    "\\frac{\\partial\\log p}{\\partial t_0} &= \\sum_i \\frac{5 \\left(\\alpha  (t+t_0)-\\beta  \\tau  \\left(e^{\\frac{t+t_0}{\\tau }}-1\\right)\\right) \\left(\\log (100) (m_0-\\bar{m})-5 \\log \\left(\\left(1-e^{-\\frac{t+t_0}{\\tau }}\\right)^{\\alpha } \\left(\\frac{t+t_0}{\\tau }\\right)^{-\\beta }\\right)\\right)}{4 \\tau  \\log ^2(10) \\left(\\sigma_i^2+\\sigma^2\\right) (t+t_0) \\left(e^{\\frac{t+t_0}{\\tau }}-1\\right)}\\\\\n",
    "\\frac{\\partial\\log p}{\\partial \\sigma} &= \\sum_i \\frac{\\sigma_i}{4 \\log ^2(10) \\left(\\sigma_i^2+\\sigma^2\\right)^2} \\left\\{5 \\log \\left[\\left(1-e^{-\\frac{t+t_0}{\\tau }}\\right)^{\\alpha } \\left(\\frac{t+t_0}{\\tau }\\right)^{-\\beta }\\right]\\right.\\\\&\\times\\left.\\left(4 \\log (10) (\\bar{m}-m_0)+5 \\log \\left[\\left(1-e^{-\\frac{t+t_0}{\\tau }}\\right)^{\\alpha } \\left(\\frac{t+t_0}{\\tau }\\right)^{-\\beta }\\right]\\right)+4 \\log ^2(10) \\left((m_0-\\bar{m})^2-\\sigma_i^2-\\sigma^2\\right)\\right\\}\n",
    "\\end{align}\n",
    "$$"
   ]
  },
  {
   "cell_type": "markdown",
   "metadata": {},
   "source": [
    "**Solution 2a**"
   ]
  },
  {
   "cell_type": "markdown",
   "metadata": {},
   "source": [
    "$$\n",
    "\\frac{\\partial\\log p}{\\partial m_0} = \\sum_i \\frac{1}{\\sigma_i^2+\\sigma^2} \\left(\\bar{m}-m_0+\\frac{5 \\log \\left[\\left(1-e^{-\\frac{t+t_0}{\\tau }}\\right)^{\\alpha } \\left(\\frac{t+t_0}{\\tau }\\right)^{-\\beta }\\right]}{\\log (100)}\\right)\n",
    "$$"
   ]
  },
  {
   "cell_type": "markdown",
   "metadata": {},
   "source": [
    "**Problem 2b**\n",
    "\n",
    "Write each of these derivatives as python functions. These functions should accept a single vector argument `x` with length equal to the number of free parameters, plus a vector $t$ (the times of the observation) and a vector $m$ (the magnitudes of each observation). Again, 5 of the 6 parameters have already been written for you (you must provide the 6th)."
   ]
  },
  {
   "cell_type": "code",
   "execution_count": 44,
   "metadata": {},
   "outputs": [],
   "source": [
    "def dlogp_dalpha(x, tt, mm, vv):\n",
    "    m0, alpha, beta, tau, t0, sigma = tuple(x)\n",
    "    t = np.array(tt)\n",
    "    m = np.array(mm)\n",
    "    v = np.array(vv)\n",
    "    \n",
    "    derivs = np.sum(-5.0 * np.log(1.0 - np.exp(-(t + t0) / tau)) * (np.log(100.0) * (m - m0) + 5.0 * lf(\n",
    "        alpha, beta, tau, t0, t)) / (4.0 * np.log(10.0) ** 2 * (v ** 2 + sigma ** 2)))\n",
    "    \n",
    "    return derivs\n",
    "\n",
    "def dlogp_dbeta(x, tt, mm, vv):\n",
    "    m0, alpha, beta, tau, t0, sigma = tuple(x)\n",
    "    t = np.array(tt)\n",
    "    m = np.array(mm)\n",
    "    v = np.array(vv)\n",
    "    \n",
    "    derivs = np.sum(5.0 * np.log((t + t0) / tau) * (np.log(100.0) * (m - m0) + 5.0 * lf(\n",
    "        alpha, beta, tau, t0, t)) / (4.0 * np.log(10.0) ** 2 * (v ** 2 + sigma ** 2)))\n",
    "    \n",
    "    return derivs\n",
    "\n",
    "def dlogp_dtau(x, tt, mm, vv):\n",
    "    m0, alpha, beta, tau, t0, sigma = tuple(x)\n",
    "    t = np.array(tt)\n",
    "    m = np.array(mm)\n",
    "    v = np.array(vv)\n",
    "    \n",
    "    derivs = np.sum(5.0 * (alpha * (t + t0) - beta * tau * (np.exp((t + t0)/tau) - 1.0)) * (\n",
    "        np.log(100.0) * (m - m0) + 5.0 * lf(\n",
    "            alpha, beta, tau, t0, t)) / (4.0 * tau ** 2 * np.log(10.0) ** 2 * (v ** 2 + sigma ** 2) * (\n",
    "        np.exp((t + t0)/tau) - 1.0)))\n",
    "    \n",
    "    return derivs\n",
    "\n",
    "def dlogp_dt0(x, tt, mm, vv):\n",
    "    m0, alpha, beta, tau, t0, sigma = tuple(x)\n",
    "    t = np.array(tt)\n",
    "    m = np.array(mm)\n",
    "    v = np.array(vv)\n",
    "    \n",
    "    derivs = np.sum(-5.0 * (alpha * (t + t0) - beta * tau * (np.exp((t + t0)/tau) - 1.0)) * (\n",
    "        np.log(100.0) * (m - m0) + 5.0 * lf(\n",
    "            alpha, beta, tau, t0, t)) / (4.0 * tau * (t + t0) * np.log(10.0) ** 2 * (v ** 2 + sigma ** 2) * (\n",
    "        np.exp((t + t0)/tau) - 1.0)))\n",
    "    \n",
    "    return derivs\n",
    "\n",
    "def dlogp_dsigma(x, tt, mm, vv):\n",
    "    m0, alpha, beta, tau, t0, sigma = tuple(x)\n",
    "    t = np.array(tt)\n",
    "    m = np.array(mm)\n",
    "    v = np.array(vv)\n",
    "    \n",
    "    derivs = np.sum(sigma/(4.0 * np.log(10.0) ** 2 * (v**2 + sigma**2)**2) * (5.0 * lf(\n",
    "        alpha, beta, tau, t0, t) * (4.0 * np.log(10.0) * (m - m0) + 5.0 * lf(\n",
    "        alpha, beta, tau, t0, t)) + 4.0 * np.log(10.0) ** 2 * ((m0 - m) ** 2 - v ** 2 - sigma ** 2)))\n",
    "    \n",
    "    return derivs"
   ]
  },
  {
   "cell_type": "markdown",
   "metadata": {},
   "source": [
    "**Problem 2c**\n",
    "\n",
    "Make sure the derivatives for all the above function are consistent with the finite differences of the objective function. How large is the error for an `eps = 1e-8` (the default distance used when no Jacobian is provided)? Make a histogram for each derivative of these errors for 100 random parameter combinations drawn from the bounds (in other words, six plots with 100 samples each).\n",
    "\n",
    "*Hint: you will likely have to remove some nans.*"
   ]
  },
  {
   "cell_type": "code",
   "execution_count": 49,
   "metadata": {},
   "outputs": [
    {
     "data": {
      "image/png": "[encoded data removed]",
      "text/plain": [
       "<matplotlib.figure.Figure at 0x11b74cb00>"
      ]
     },
     "metadata": {
      "image/png": {
       "height": 251,
       "width": 379
      }
     },
     "output_type": "display_data"
    }
   ],
   "source": [
    "# Draw a random parameter combo to test with.\n",
    "n = 100\n",
    "dm0_diff = np.zeros(n)\n",
    "dalpha_diff = np.zeros(n)\n",
    "dbeta_diff = np.zeros(n)\n",
    "dtau_diff = np.zeros(n)\n",
    "dt0_diff = np.zeros(n)\n",
    "dsigma_diff = np.zeros(n)\n",
    "for p in range(n):\n",
    "    test_x = [abounds[i][0] + x * (abounds[i][1] - abounds[i][0]) for i, x in enumerate(np.random.rand(6))]\n",
    "\n",
    "    # Check that every derivative expression is close to finite difference.\n",
    "    teps = 1e-10\n",
    "\n",
    "    xp = list(test_x)\n",
    "    xp[0] += teps\n",
    "    exactd = dlogp_dm0(test_x, test_times, test_mags, test_errs)\n",
    "    dm0_diff[p] = (exactd - (\n",
    "        analytic_f(test_x, test_times, test_mags, test_errs) - analytic_f(\n",
    "            xp, test_times, test_mags, test_errs)) / teps) / exactd\n",
    "\n",
    "    xp = list(test_x)\n",
    "    xp[1] += teps\n",
    "    exactd = dlogp_dalpha(test_x, test_times, test_mags, test_errs)\n",
    "    dalpha_diff[p] = (exactd - (\n",
    "        analytic_f(test_x, test_times, test_mags, test_errs) - analytic_f(\n",
    "            xp, test_times, test_mags, test_errs)) / teps) / exactd\n",
    "\n",
    "    xp = list(test_x)\n",
    "    xp[2] += teps\n",
    "    exactd = dlogp_dbeta(test_x, test_times, test_mags, test_errs)\n",
    "    dbeta_diff[p] = (exactd - (\n",
    "        analytic_f(test_x, test_times, test_mags, test_errs) - analytic_f(\n",
    "            xp, test_times, test_mags, test_errs)) / teps) / exactd\n",
    "\n",
    "    xp = list(test_x)\n",
    "    xp[3] += teps\n",
    "    exactd = dlogp_dtau(test_x, test_times, test_mags, test_errs)\n",
    "    dtau_diff[p] = (exactd - (\n",
    "        analytic_f(test_x, test_times, test_mags, test_errs) - analytic_f(\n",
    "            xp, test_times, test_mags, test_errs)) / teps) / exactd\n",
    "\n",
    "    xp = list(test_x)\n",
    "    xp[4] += teps\n",
    "    exactd = dlogp_dt0(test_x, test_times, test_mags, test_errs)\n",
    "    dt0_diff[p] = (exactd - (\n",
    "        analytic_f(test_x, test_times, test_mags, test_errs) - analytic_f(\n",
    "            xp, test_times, test_mags, test_errs)) / teps) / exactd\n",
    "\n",
    "    xp = list(test_x)\n",
    "    xp[5] += teps\n",
    "    exactd = dlogp_dsigma(test_x, test_times, test_mags, test_errs)\n",
    "    dsigma_diff[p] = (exactd - (\n",
    "        analytic_f(test_x, test_times, test_mags, test_errs) - analytic_f(\n",
    "            xp, test_times, test_mags, test_errs)) / teps) / exactd\n",
    "\n",
    "plt.subplot(321)\n",
    "plt.hist(dm0_diff[~np.isnan(dm0_diff)]);\n",
    "plt.subplot(322)\n",
    "plt.hist(dalpha_diff[~np.isnan(dalpha_diff)]);\n",
    "plt.subplot(323)\n",
    "plt.hist(dbeta_diff[~np.isnan(dbeta_diff)]);\n",
    "plt.subplot(324)\n",
    "plt.hist(dtau_diff[~np.isnan(dtau_diff)]);\n",
    "plt.subplot(325)\n",
    "plt.hist(dt0_diff[~np.isnan(dt0_diff)]);\n",
    "plt.subplot(326)\n",
    "plt.hist(dsigma_diff[~np.isnan(dsigma_diff)]);"
   ]
  },
  {
   "cell_type": "markdown",
   "metadata": {},
   "source": [
    "Which derivatives seem to have the least accurate finite differences? Why?"
   ]
  },
  {
   "cell_type": "markdown",
   "metadata": {},
   "source": [
    "## Problem 3\n",
    "\n",
    "Now we have an analytical function with analytical derivatives that should be accurate to near-machine precision. \n",
    "\n",
    "** Problem 3a **\n",
    "\n",
    "First, let's optimize our function using `differential_evolution`, as we did above with the MOSFiT output, without using the derivatives we have constructed (as `differential_evolution` does not use them)."
   ]
  },
  {
   "cell_type": "code",
   "execution_count": 50,
   "metadata": {},
   "outputs": [
    {
     "name": "stdout",
     "output_type": "stream",
     "text": [
      "All done! Best score: `-7.120527661572082`, took `13769` function evaluations.\n"
     ]
    }
   ],
   "source": [
    "import scipy\n",
    "\n",
    "times0 = np.array(times) - min(times)\n",
    "results = scipy.optimize.differential_evolution(analytic_f, bounds=abounds, args=(\n",
    "    times0, mags, errs))\n",
    "best_x = results.x\n",
    "\n",
    "print('All done! Best score: `{}`, took `{}` function evaluations.'.format(results.fun, results.nfev))"
   ]
  },
  {
   "cell_type": "markdown",
   "metadata": {},
   "source": [
    "Now plot the result:"
   ]
  },
  {
   "cell_type": "code",
   "execution_count": 51,
   "metadata": {},
   "outputs": [
    {
     "data": {
      "image/png": "[encoded data removed]",
      "text/plain": [
       "<matplotlib.figure.Figure at 0x11b91f4e0>"
      ]
     },
     "metadata": {
      "image/png": {
       "height": 250,
       "width": 370
      }
     },
     "output_type": "display_data"
    }
   ],
   "source": [
    "mtimes3 = np.linspace(1, 500, 200)\n",
    "mmags3 = analytic_m(best_x, mtimes3)\n",
    "mtimes3 += min(times)\n",
    "\n",
    "plt.errorbar(times, mags, yerr=errs, fmt='o')\n",
    "plt.plot(mtimes3, mmags3, c='g')\n",
    "plt.gca().invert_yaxis()\n",
    "plt.show()"
   ]
  },
  {
   "cell_type": "markdown",
   "metadata": {},
   "source": [
    "Not a bad approximation!\n",
    "\n",
    "** Problem 3b **\n",
    "\n",
    "Let's minimize using the `basinhopping` algorithm now, again not using our derivatives."
   ]
  },
  {
   "cell_type": "code",
   "execution_count": 52,
   "metadata": {},
   "outputs": [
    {
     "name": "stdout",
     "output_type": "stream",
     "text": [
      "All done! Best score: `-7.120527665162704`, took `37422` function evaluations.\n"
     ]
    }
   ],
   "source": [
    "times0 = np.array(times) - min(times)\n",
    "guess = [np.mean(x) for x in abounds]\n",
    "results = scipy.optimize.basinhopping(analytic_f, guess, minimizer_kwargs={\n",
    "    'method': 'L-BFGS-B', 'bounds': abounds, 'args': (times0, mags, errs)})\n",
    "best_x = results.x\n",
    "\n",
    "print('All done! Best score: `{}`, took `{}` function evaluations.'.format(results.fun, results.nfev))"
   ]
  },
  {
   "cell_type": "markdown",
   "metadata": {},
   "source": [
    "This algorithm, which depends on finite differencing, seems to have taken more function evaluations than `differential_evolution`. Let's give it some help: construct a jacobian using the derivative functions defined above.\n",
    "\n",
    "*Hint: mind the sign of the Jacobian since we are **minimizing** the function.*"
   ]
  },
  {
   "cell_type": "code",
   "execution_count": 53,
   "metadata": {},
   "outputs": [
    {
     "name": "stdout",
     "output_type": "stream",
     "text": [
      "All done! Best score: `-7.120527674754538`, took `4543` function evaluations.\n"
     ]
    },
    {
     "data": {
      "image/png": "[encoded data removed]",
      "text/plain": [
       "<matplotlib.figure.Figure at 0x11bcdf710>"
      ]
     },
     "metadata": {
      "image/png": {
       "height": 250,
       "width": 370
      }
     },
     "output_type": "display_data"
    }
   ],
   "source": [
    "def jac(x, tt, mm, vv):\n",
    "    m0, alpha, beta, tau, t0, sigma = tuple(x)\n",
    "    t = np.array(tt)\n",
    "    m = np.array(mm)\n",
    "    v = np.array(vv)\n",
    "    \n",
    "    jac = -np.array(\n",
    "        [dlogp_dm0(x, tt, mm, vv), dlogp_dalpha(x, tt, mm, vv),\n",
    "         dlogp_dbeta(x, tt, mm, vv), dlogp_dtau(x, tt, mm, vv),\n",
    "         dlogp_dt0(x, tt, mm, vv), dlogp_dsigma(x, tt, mm, vv)])\n",
    "    \n",
    "    return jac\n",
    "\n",
    "results = scipy.optimize.basinhopping(analytic_f, guess, minimizer_kwargs={\n",
    "    'method': 'L-BFGS-B', 'bounds': abounds, 'args': (times0, mags, errs), 'jac': jac})\n",
    "best_x = results.x\n",
    "\n",
    "print('All done! Best score: `{}`, took `{}` function evaluations.'.format(results.fun, results.nfev))\n",
    "\n",
    "mtimes3 = np.linspace(1, 500, 200)\n",
    "mmags3 = analytic_m(best_x, mtimes3)\n",
    "mtimes3 += min(times)\n",
    "\n",
    "plt.errorbar(times, mags, yerr=errs, fmt='o')\n",
    "plt.plot(mtimes3, mmags3, c='g')\n",
    "plt.gca().invert_yaxis()\n",
    "plt.show()"
   ]
  },
  {
   "cell_type": "markdown",
   "metadata": {},
   "source": [
    "If all went well, the jacobian version of the optimization should have taken ~8x fewer function evaluations. But is it faster?\n",
    "\n",
    "**Problem 3c**\n",
    "\n",
    "Compute how many times the Jacobian was called, and estimate how expensive the Jacobian is to compute relative to the objective function. How does this compare to the run that only used finite differencing?"
   ]
  },
  {
   "cell_type": "code",
   "execution_count": 62,
   "metadata": {},
   "outputs": [
    {
     "name": "stdout",
     "output_type": "stream",
     "text": [
      "4799\n",
      "4.875181409239769\n",
      "1.828448262619972\n"
     ]
    }
   ],
   "source": [
    "global jcount\n",
    "jcount = 0\n",
    "\n",
    "def jac(x, tt, mm, vv):\n",
    "    global jcount\n",
    "    jcount += 1\n",
    "    m0, alpha, beta, tau, t0, sigma = tuple(x)\n",
    "    t = np.array(tt)\n",
    "    m = np.array(mm)\n",
    "    v = np.array(vv)\n",
    "    \n",
    "    jac = -np.array(\n",
    "        [dlogp_dm0(x, tt, mm, vv), dlogp_dalpha(x, tt, mm, vv),\n",
    "         dlogp_dbeta(x, tt, mm, vv), dlogp_dtau(x, tt, mm, vv),\n",
    "         dlogp_dt0(x, tt, mm, vv), dlogp_dsigma(x, tt, mm, vv)])\n",
    "    \n",
    "    return jac\n",
    "\n",
    "results = scipy.optimize.basinhopping(analytic_f, guess, minimizer_kwargs={\n",
    "    'method': 'L-BFGS-B', 'bounds': abounds, 'args': (times0, mags, errs), 'jac': jac})\n",
    "\n",
    "tot_jcount = jcount\n",
    "print(jcount)\n",
    "\n",
    "ntest = 10000\n",
    "\n",
    "start_time = time.time()\n",
    "for p in range(ntest):\n",
    "    test_x = [abounds[i][0] + x * (abounds[i][1] - abounds[i][0]) for i, x in enumerate(np.random.rand(6))]\n",
    "    \n",
    "    analytic_f(test_x, times0, mags, errs)\n",
    "avg_f_time = ((time.time() - start_time) / ntest)\n",
    "\n",
    "start_time = time.time()\n",
    "for p in range(ntest):\n",
    "    test_x = [abounds[i][0] + x * (abounds[i][1] - abounds[i][0]) for i, x in enumerate(np.random.rand(6))]\n",
    "    \n",
    "    jac(test_x, times0, mags, errs)\n",
    "avg_j_time = ((time.time() - start_time) / ntest)\n",
    "\n",
    "print(jcount * (avg_j_time + avg_f_time))\n",
    "\n",
    "results = scipy.optimize.basinhopping(analytic_f, guess, minimizer_kwargs={\n",
    "    'method': 'L-BFGS-B', 'bounds': abounds, 'args': (times0, mags, errs)})\n",
    "print(results.nfev * avg_f_time)"
   ]
  },
  {
   "cell_type": "markdown",
   "metadata": {},
   "source": [
    "Can you think of a reason why using the Jacobian version may be preferable, even if it is slower?"
   ]
  },
  {
   "cell_type": "markdown",
   "metadata": {},
   "source": [
    "## Challenge Problem(s)\n",
    "\n",
    "**Select one (or more) of the following:**\n",
    "\n",
    "- Optimize the Jacobian function to reuse common functions that are shared between each derivative component (example: $1 - e^{((t + t_0)/\\tau)}$ appears frequently in the expressions, it only needs to be computed once).\n",
    "- Sample the posterior in a Monte Carlo framework (using priors of your choice). Samplers like `emcee` are versatile and work even when derivatives aren't available, but we **do** have derivatives, so more powerful methods like Hamiltonian MCMC are available to us."
   ]
  },
  {
   "cell_type": "code",
   "execution_count": null,
   "metadata": {
    "collapsed": true
   },
   "outputs": [],
   "source": [
    "# no code snippets provided here"
   ]
  }
 ],
 "metadata": {
  "kernelspec": {
   "display_name": "Python 3",
   "language": "python",
   "name": "python3"
  },
  "language_info": {
   "codemirror_mode": {
    "name": "ipython",
    "version": 3
   },
   "file_extension": ".py",
   "mimetype": "text/x-python",
   "name": "python",
   "nbconvert_exporter": "python",
   "pygments_lexer": "ipython3",
   "version": "3.6.3"
  }
 },
 "nbformat": 4,
 "nbformat_minor": 2
}
