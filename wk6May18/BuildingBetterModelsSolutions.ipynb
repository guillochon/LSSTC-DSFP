{
 "cells": [
  {
   "cell_type": "code",
   "execution_count": 1,
   "metadata": {
    "collapsed": true
   },
   "outputs": [],
   "source": [
    "from __future__ import print_function, division, absolute_import"
   ]
  },
  {
   "cell_type": "markdown",
   "metadata": {},
   "source": [
    "As a preamble - note that JuPyTer notebooks are formatted using [markdown](http://daringfireball.net/projects/markdown/), a text-to-html conversion tool. If you are not familiar, there are [cheatsheets](https://github.com/adam-p/markdown-here/wiki/Markdown-Cheatsheet) available with all the basic functionality that you will need."
   ]
  },
  {
   "cell_type": "markdown",
   "metadata": {},
   "source": [
    "# Building Better Models for Inference:\n",
    "\n",
    "# How to construct practical models for existing tools\n",
    "\n",
    "**Version 0.1**\n",
    "\n",
    "In this notebook, we will walk through fitting a real light curve from a tidal disruption event (TDE), the destruction and accretion of a star by a supermassive black hole, using two different approaches.\n",
    "\n",
    "As mentioned in the lecture, there are different kinds of models one can apply to a set of data. A code I have written, MOSFiT, is an attempt to provide a framework for building models that can be used within other optimizers/samplers. While MOSFiT can run independently, in the notebook below we will simple be using it as a \"black box\" function for use in external optimization routines.\n",
    "\n",
    "Our first approach will be using the `tde` model in MOSFiT. This model uses both interpolation tables and integrations, making an analytical derivative not available. Our second approach will be to construct a simple analytical function to fit the same data. We will then be comparing performance, both in terms of the quality of the resulting solution, but also the speed by which the solution was computed, and in how we relate our solution to what transpired in this event.\n",
    "\n",
    "* * *\n",
    "\n",
    "By J Guillochon (Harvard)"
   ]
  },
  {
   "cell_type": "markdown",
   "metadata": {},
   "source": [
    "*We will be mostly using the mosfit package and scipy routines. Both are available via conda.*"
   ]
  },
  {
   "cell_type": "code",
   "execution_count": 2,
   "metadata": {
    "collapsed": false
   },
   "outputs": [],
   "source": [
    "import numpy as np\n",
    "import matplotlib.pyplot as plt\n",
    "import mosfit\n",
    "import time\n",
    "\n",
    "# Disable \"retina\" line below if your monitor doesn't support it.\n",
    "%matplotlib inline\n",
    "%config InlineBackend.figure_format = 'retina'"
   ]
  },
  {
   "cell_type": "markdown",
   "metadata": {},
   "source": [
    "## Problem 1) Fitting data with a blackbox model"
   ]
  },
  {
   "cell_type": "markdown",
   "metadata": {},
   "source": [
    "In this first cell, we load the data of a particularly well-sampled tidal disruption event from the Pan-STARRS survey, PS1-10jh. This even is notable because it was caught on the rise, peak, and decay, with solid cadence."
   ]
  },
  {
   "cell_type": "code",
   "execution_count": 3,
   "metadata": {
    "collapsed": false
   },
   "outputs": [
    {
     "name": "stdout",
     "output_type": "stream",
     "text": [
      "\n",
      "Event file:\n",
      "  BBM_data/PS1-10jh.json\n",
      "0.014838411808013915s per function call.\n"
     ]
    }
   ],
   "source": [
    "# Load the data from the Open Supernova Catalog.\n",
    "# Note: if loading the data doesn't work, I have a local copy.\n",
    "my_printer = mosfit.printer.Printer(quiet=True)  # just to avoid spamming from MOSFiT routines.\n",
    "my_fetcher = mosfit.fetcher.Fetcher()\n",
    "\n",
    "fetched = my_fetcher.fetch('BBM_data/PS1-10jh.json')[0]\n",
    "\n",
    "my_model = mosfit.model.Model(model='tde', printer=my_printer)\n",
    "fetched_data = my_fetcher.load_data(fetched)\n",
    "my_model.load_data(\n",
    "    fetched_data, event_name=fetched['name'],\n",
    "    exclude_bands=['u', 'r', 'i', 'z', 'F225W', 'NUV'],  # ignore all bands but g when computing ln_likelihood.\n",
    "    smooth_times=100,  # for plotting smooth fits later\n",
    "    user_fixed_parameters=['covariance'])  # don't use GP objective function.\n",
    "\n",
    "# Generate 100 random parameter realizations.\n",
    "x = np.random.rand(100, my_model.get_num_free_parameters())\n",
    "\n",
    "# Compute time per function call.\n",
    "start_time = time.time()\n",
    "ln_likes = [my_model.ln_likelihood(xx) for xx in x]\n",
    "stop_time = time.time()\n",
    "\n",
    "print('{}s per function call.'.format((stop_time - start_time)/100.0))"
   ]
  },
  {
   "cell_type": "markdown",
   "metadata": {},
   "source": [
    "**Problem 1a**\n",
    "\n",
    "First, let's visualize the data we have downloaded. MOSFiT loads data in a format conforming to the OAC schema specification, which is a JSON dictionary where the top level of the structure is each event's name. The code snippet below will load a JSON dictionary for the event in question, plot the full time series of photometric data (with error bars) within the `photometry` key below.\n",
    "\n",
    "*Hint: The photometry is a mixture of different data types, and not every entry has the same set of keys. Optical/UV/IR photometry will always have a `band` key. Ignore upper limits (indicated with the `upperlimit` attribute). Use the `.get()` function liberally, and make sure everything is a `float`!*"
   ]
  },
  {
   "cell_type": "code",
   "execution_count": 4,
   "metadata": {
    "collapsed": false
   },
   "outputs": [
    {
     "data": {
      "image/png": "[encoded data removed]",
      "text/plain": [
       "<matplotlib.figure.Figure at 0x11623d7f0>"
      ]
     },
     "metadata": {
      "image/png": {
       "height": 250,
       "width": 371
      }
     },
     "output_type": "display_data"
    }
   ],
   "source": [
    "times = []\n",
    "mags = []\n",
    "errs = []\n",
    "for x in fetched_data[fetched['name']]['photometry']:\n",
    "    if x.get('band') != 'g' or x.get('upperlimit') or not x.get('e_magnitude'):\n",
    "        continue\n",
    "    times.append(float(x['time']))\n",
    "    mags.append(float(x['magnitude']))\n",
    "    errs.append(float(x['e_magnitude']))\n",
    "\n",
    "plt.errorbar(times, mags, yerr=errs, fmt='o')\n",
    "plt.gca().invert_yaxis()\n",
    "plt.show()"
   ]
  },
  {
   "cell_type": "markdown",
   "metadata": {},
   "source": [
    "**Problem 1b**\n",
    "\n",
    "We know what the data looks like, and we've loaded a model that can be used to fit the data which computes a likelihood. Let's minimize the parameters of this model using various `scipy.optimize` routines. Note that since we are trying to **maximize** the likelihood, we have constructed a wrapper function around `ln_likelihood`, `my_func`, to reverse its sign, and to handle bad function evaluations.\n",
    "\n",
    "Most `optimize` routines in `scipy` require a derivative. Since we don't have this available, `scipy` must construct an approximate one, unless the method doesn't require a gradient to be computed (like `differential_evolution`). For this first sub-problem, optimize `my_func` using `differential_evolution`.\n",
    "\n",
    "*Hints: Each variable is bounded to the range (0, 1), but problems can arise if an optimizer attempts to compute values outside or right at the boundaries. Therefore, it is recommended to use a bounded optimizer in `scipy`, where the bounds do **not include** 0 or 1.*"
   ]
  },
  {
   "cell_type": "code",
   "execution_count": 5,
   "metadata": {
    "collapsed": false
   },
   "outputs": [
    {
     "name": "stdout",
     "output_type": "stream",
     "text": [
      "differential_evolution step 1: f(x)= 22.196\n",
      "differential_evolution step 2: f(x)= 22.196\n",
      "differential_evolution step 3: f(x)= 22.196\n",
      "differential_evolution step 4: f(x)= 21.9109\n",
      "differential_evolution step 5: f(x)= 21.9109\n",
      "differential_evolution step 6: f(x)= 21.9109\n",
      "differential_evolution step 7: f(x)= 21.9109\n",
      "differential_evolution step 8: f(x)= 21.9109\n",
      "differential_evolution step 9: f(x)= 21.9109\n",
      "differential_evolution step 10: f(x)= 21.9109\n",
      "differential_evolution step 11: f(x)= 21.9109\n",
      "differential_evolution step 12: f(x)= 21.9109\n",
      "differential_evolution step 13: f(x)= 21.9109\n",
      "differential_evolution step 14: f(x)= 21.9109\n",
      "differential_evolution step 15: f(x)= 21.9109\n",
      "differential_evolution step 16: f(x)= 21.9109\n",
      "differential_evolution step 17: f(x)= 21.9109\n",
      "differential_evolution step 18: f(x)= 21.9109\n",
      "differential_evolution step 19: f(x)= 21.9109\n",
      "differential_evolution step 20: f(x)= 21.8795\n",
      "differential_evolution step 21: f(x)= 21.3839\n",
      "differential_evolution step 22: f(x)= 21.3839\n",
      "differential_evolution step 23: f(x)= 21.3839\n",
      "differential_evolution step 24: f(x)= 16.8955\n",
      "differential_evolution step 25: f(x)= 16.8955\n",
      "differential_evolution step 26: f(x)= 16.8955\n",
      "differential_evolution step 27: f(x)= 16.8955\n",
      "differential_evolution step 28: f(x)= 16.8955\n",
      "differential_evolution step 29: f(x)= 16.8955\n",
      "differential_evolution step 30: f(x)= 1.90073\n",
      "differential_evolution step 31: f(x)= 1.90073\n",
      "differential_evolution step 32: f(x)= 1.90073\n",
      "differential_evolution step 33: f(x)= 1.90073\n",
      "differential_evolution step 34: f(x)= 1.90073\n",
      "differential_evolution step 35: f(x)= 1.90073\n",
      "differential_evolution step 36: f(x)= 1.90073\n",
      "differential_evolution step 37: f(x)= 1.90073\n",
      "differential_evolution step 38: f(x)= 1.90073\n",
      "differential_evolution step 39: f(x)= 1.90073\n",
      "differential_evolution step 40: f(x)= -6.46836\n",
      "differential_evolution step 41: f(x)= -6.46836\n",
      "differential_evolution step 42: f(x)= -6.46836\n",
      "differential_evolution step 43: f(x)= -6.46836\n",
      "differential_evolution step 44: f(x)= -6.46836\n",
      "differential_evolution step 45: f(x)= -6.46836\n",
      "differential_evolution step 46: f(x)= -6.46836\n",
      "differential_evolution step 47: f(x)= -6.46836\n",
      "differential_evolution step 48: f(x)= -6.46836\n",
      "differential_evolution step 49: f(x)= -6.46836\n",
      "differential_evolution step 50: f(x)= -6.46836\n",
      "differential_evolution step 51: f(x)= -6.46836\n",
      "differential_evolution step 52: f(x)= -6.46836\n",
      "differential_evolution step 53: f(x)= -6.46836\n",
      "differential_evolution step 54: f(x)= -6.46836\n",
      "differential_evolution step 55: f(x)= -6.46836\n",
      "differential_evolution step 56: f(x)= -6.46836\n",
      "differential_evolution step 57: f(x)= -6.46836\n",
      "differential_evolution step 58: f(x)= -6.46836\n",
      "differential_evolution step 59: f(x)= -6.46836\n",
      "differential_evolution step 60: f(x)= -6.46836\n",
      "differential_evolution step 61: f(x)= -6.46836\n",
      "differential_evolution step 62: f(x)= -6.46836\n",
      "differential_evolution step 63: f(x)= -6.46836\n",
      "differential_evolution step 64: f(x)= -6.46836\n",
      "differential_evolution step 65: f(x)= -6.46836\n",
      "differential_evolution step 66: f(x)= -6.46836\n",
      "differential_evolution step 67: f(x)= -6.46836\n",
      "differential_evolution step 68: f(x)= -6.46836\n",
      "differential_evolution step 69: f(x)= -6.46836\n",
      "differential_evolution step 70: f(x)= -6.46836\n",
      "differential_evolution step 71: f(x)= -6.46836\n",
      "differential_evolution step 72: f(x)= -6.46836\n",
      "differential_evolution step 73: f(x)= -6.46836\n",
      "differential_evolution step 74: f(x)= -8.18614\n",
      "differential_evolution step 75: f(x)= -8.18614\n",
      "differential_evolution step 76: f(x)= -8.18614\n",
      "differential_evolution step 77: f(x)= -8.18614\n",
      "differential_evolution step 78: f(x)= -8.18614\n",
      "differential_evolution step 79: f(x)= -16.8186\n",
      "differential_evolution step 80: f(x)= -16.8186\n",
      "differential_evolution step 81: f(x)= -16.8186\n",
      "differential_evolution step 82: f(x)= -16.8186\n",
      "differential_evolution step 83: f(x)= -16.8186\n",
      "differential_evolution step 84: f(x)= -16.8186\n",
      "differential_evolution step 85: f(x)= -16.8186\n",
      "differential_evolution step 86: f(x)= -16.8186\n",
      "differential_evolution step 87: f(x)= -20.6311\n",
      "differential_evolution step 88: f(x)= -20.6311\n",
      "differential_evolution step 89: f(x)= -20.6311\n",
      "differential_evolution step 90: f(x)= -20.6311\n",
      "differential_evolution step 91: f(x)= -20.6311\n",
      "differential_evolution step 92: f(x)= -20.6311\n",
      "differential_evolution step 93: f(x)= -20.6311\n",
      "differential_evolution step 94: f(x)= -20.6311\n",
      "differential_evolution step 95: f(x)= -20.6311\n",
      "differential_evolution step 96: f(x)= -20.6311\n",
      "differential_evolution step 97: f(x)= -20.6311\n",
      "differential_evolution step 98: f(x)= -20.6311\n",
      "differential_evolution step 99: f(x)= -20.6311\n",
      "differential_evolution step 100: f(x)= -20.6311\n",
      "All done! Best score: `20.631088511675102`.\n"
     ]
    }
   ],
   "source": [
    "import scipy\n",
    "\n",
    "\n",
    "def my_func(x):\n",
    "    try:\n",
    "        fx = -float(my_model.ln_likelihood(x))\n",
    "    except:\n",
    "        fx = np.inf\n",
    "    return fx\n",
    "\n",
    "eps = 0.00001\n",
    "# guess = np.full(my_model.get_num_free_parameters(), 0.5)\n",
    "bounds = np.full((my_model.get_num_free_parameters(), 2), (eps, 1.0 - eps))\n",
    "results = scipy.optimize.differential_evolution(my_func, bounds=bounds, disp=True, polish=False, maxiter=100)\n",
    "best_x = results.x\n",
    "\n",
    "print('All done! Best score: `{}`.'.format(-results.fun))"
   ]
  },
  {
   "cell_type": "markdown",
   "metadata": {},
   "source": [
    "This might take a while; try to limit the execution time of the above to ~5 minutes by playing with the `maxiter` and similar options of the `scipy` optimizers.\n",
    "\n",
    "Once the above has finished evaluating, compare the score you got to your neighbors. Is there a significant difference between your scores? Let's plot your result against the data.\n",
    "\n",
    "Model output is provided in the `output` object below, the format is a dictionary of arrays of the same length. The times of observation are in the `times` array, and magnitudes are in the `model_observations` array.\n",
    "\n",
    "*Hint: `times` is given relative to the time of the first detection, so add `min(times)` to your time to overplot onto the data.*"
   ]
  },
  {
   "cell_type": "code",
   "execution_count": 7,
   "metadata": {},
   "outputs": [
    {
     "data": {
      "image/png": "[encoded data removed]",
      "text/plain": [
       "<matplotlib.figure.Figure at 0x1149af9e8>"
      ]
     },
     "metadata": {
      "image/png": {
       "height": 250,
       "width": 370
      }
     },
     "output_type": "display_data"
    }
   ],
   "source": [
    "output = my_model.run_stack(best_x, root='output')\n",
    "mtimes = []\n",
    "mmags = []\n",
    "\n",
    "for ti, t in enumerate(output['times']):\n",
    "    mtimes.append(t + min(times))\n",
    "    mmags.append(output['model_observations'][ti])\n",
    "\n",
    "plt.errorbar(times, mags, yerr=errs, fmt='o')\n",
    "plt.plot(mtimes, mmags)\n",
    "plt.xlim(min(times) - 10, max(times) + 10)\n",
    "plt.ylim(min(mags) - 0.5, max(mags) + 0.5)\n",
    "plt.gca().invert_yaxis()\n",
    "plt.show()"
   ]
  },
  {
   "cell_type": "markdown",
   "metadata": {},
   "source": [
    "**Problem 1c**\n",
    "\n",
    "Try optimizing the same function using **another** minimization routine in scipy that can take a derivative as an input (examples: `L-BFGS-B`, `SLSQP`, `basinhopping`, etc.)."
   ]
  },
  {
   "cell_type": "code",
   "execution_count": 8,
   "metadata": {},
   "outputs": [
    {
     "name": "stdout",
     "output_type": "stream",
     "text": [
      "warning: basinhopping: local minimization failure\n",
      "basinhopping step 0: f -56.3977\n",
      "warning: basinhopping: local minimization failure\n",
      "basinhopping step 1: f -56.3977 trial_f inf accepted 0  lowest_f -56.3977\n",
      "warning: basinhopping: local minimization failure\n",
      "basinhopping step 2: f -56.3977 trial_f inf accepted 0  lowest_f -56.3977\n",
      "warning: basinhopping: local minimization failure\n",
      "basinhopping step 3: f -56.3977 trial_f inf accepted 0  lowest_f -56.3977\n",
      "warning: basinhopping: local minimization failure\n",
      "basinhopping step 4: f -56.3977 trial_f inf accepted 0  lowest_f -56.3977\n",
      "warning: basinhopping: local minimization failure\n",
      "basinhopping step 5: f -56.3977 trial_f inf accepted 0  lowest_f -56.3977\n",
      "warning: basinhopping: local minimization failure\n",
      "basinhopping step 6: f -56.3977 trial_f inf accepted 0  lowest_f -56.3977\n",
      "warning: basinhopping: local minimization failure\n",
      "basinhopping step 7: f -56.3977 trial_f inf accepted 0  lowest_f -56.3977\n",
      "warning: basinhopping: local minimization failure\n",
      "basinhopping step 8: f -56.3977 trial_f inf accepted 0  lowest_f -56.3977\n",
      "warning: basinhopping: local minimization failure\n",
      "basinhopping step 9: f -56.3977 trial_f inf accepted 0  lowest_f -56.3977\n",
      "warning: basinhopping: local minimization failure\n",
      "basinhopping step 10: f -56.3977 trial_f inf accepted 0  lowest_f -56.3977\n",
      "warning: basinhopping: local minimization failure\n",
      "basinhopping step 11: f -56.3977 trial_f inf accepted 0  lowest_f -56.3977\n",
      "warning: basinhopping: local minimization failure\n",
      "basinhopping step 12: f -56.3977 trial_f inf accepted 0  lowest_f -56.3977\n",
      "warning: basinhopping: local minimization failure\n",
      "basinhopping step 13: f -56.3977 trial_f inf accepted 0  lowest_f -56.3977\n",
      "warning: basinhopping: local minimization failure\n",
      "basinhopping step 14: f -56.3977 trial_f inf accepted 0  lowest_f -56.3977\n",
      "warning: basinhopping: local minimization failure\n",
      "basinhopping step 15: f -56.3977 trial_f inf accepted 0  lowest_f -56.3977\n",
      "warning: basinhopping: local minimization failure\n",
      "basinhopping step 16: f -56.3977 trial_f inf accepted 0  lowest_f -56.3977\n",
      "warning: basinhopping: local minimization failure\n",
      "basinhopping step 17: f -56.3977 trial_f inf accepted 0  lowest_f -56.3977\n",
      "warning: basinhopping: local minimization failure\n",
      "basinhopping step 18: f -56.3977 trial_f inf accepted 0  lowest_f -56.3977\n",
      "warning: basinhopping: local minimization failure\n",
      "basinhopping step 19: f -56.3977 trial_f inf accepted 0  lowest_f -56.3977\n",
      "warning: basinhopping: local minimization failure\n",
      "basinhopping step 20: f -56.3977 trial_f inf accepted 0  lowest_f -56.3977\n",
      "warning: basinhopping: local minimization failure\n",
      "basinhopping step 21: f -56.3977 trial_f inf accepted 0  lowest_f -56.3977\n",
      "warning: basinhopping: local minimization failure\n",
      "basinhopping step 22: f -56.3977 trial_f inf accepted 0  lowest_f -56.3977\n",
      "warning: basinhopping: local minimization failure\n",
      "basinhopping step 23: f -56.3977 trial_f inf accepted 0  lowest_f -56.3977\n",
      "warning: basinhopping: local minimization failure\n",
      "basinhopping step 24: f -56.3977 trial_f inf accepted 0  lowest_f -56.3977\n",
      "warning: basinhopping: local minimization failure\n",
      "basinhopping step 25: f -56.3977 trial_f inf accepted 0  lowest_f -56.3977\n",
      "warning: basinhopping: local minimization failure\n",
      "basinhopping step 26: f -56.3977 trial_f inf accepted 0  lowest_f -56.3977\n",
      "warning: basinhopping: local minimization failure\n",
      "basinhopping step 27: f -56.3977 trial_f inf accepted 0  lowest_f -56.3977\n",
      "warning: basinhopping: local minimization failure\n",
      "basinhopping step 28: f -56.3977 trial_f inf accepted 0  lowest_f -56.3977\n",
      "warning: basinhopping: local minimization failure\n",
      "basinhopping step 29: f -56.3977 trial_f inf accepted 0  lowest_f -56.3977\n",
      "basinhopping step 30: f -56.3977 trial_f -28.4395 accepted 0  lowest_f -56.3977\n",
      "warning: basinhopping: local minimization failure\n",
      "basinhopping step 31: f -56.3977 trial_f inf accepted 0  lowest_f -56.3977\n",
      "warning: basinhopping: local minimization failure\n",
      "basinhopping step 32: f -56.3977 trial_f inf accepted 0  lowest_f -56.3977\n",
      "warning: basinhopping: local minimization failure\n",
      "basinhopping step 33: f -56.3977 trial_f inf accepted 0  lowest_f -56.3977\n",
      "warning: basinhopping: local minimization failure\n",
      "basinhopping step 34: f -56.3977 trial_f inf accepted 0  lowest_f -56.3977\n",
      "warning: basinhopping: local minimization failure\n",
      "basinhopping step 35: f -56.3977 trial_f inf accepted 0  lowest_f -56.3977\n",
      "warning: basinhopping: local minimization failure\n",
      "basinhopping step 36: f -56.3977 trial_f inf accepted 0  lowest_f -56.3977\n",
      "warning: basinhopping: local minimization failure\n",
      "basinhopping step 37: f -56.3977 trial_f inf accepted 0  lowest_f -56.3977\n",
      "warning: basinhopping: local minimization failure\n",
      "basinhopping step 38: f -56.3977 trial_f inf accepted 0  lowest_f -56.3977\n",
      "warning: basinhopping: local minimization failure\n",
      "basinhopping step 39: f -56.3977 trial_f inf accepted 0  lowest_f -56.3977\n",
      "warning: basinhopping: local minimization failure\n",
      "basinhopping step 40: f -56.3977 trial_f inf accepted 0  lowest_f -56.3977\n",
      "warning: basinhopping: local minimization failure\n",
      "basinhopping step 41: f -56.3977 trial_f inf accepted 0  lowest_f -56.3977\n",
      "warning: basinhopping: local minimization failure\n",
      "basinhopping step 42: f -56.3977 trial_f inf accepted 0  lowest_f -56.3977\n",
      "warning: basinhopping: local minimization failure\n",
      "basinhopping step 43: f -56.3977 trial_f inf accepted 0  lowest_f -56.3977\n",
      "warning: basinhopping: local minimization failure\n",
      "basinhopping step 44: f -56.3977 trial_f inf accepted 0  lowest_f -56.3977\n",
      "warning: basinhopping: local minimization failure\n",
      "basinhopping step 45: f -56.3977 trial_f inf accepted 0  lowest_f -56.3977\n",
      "warning: basinhopping: local minimization failure\n",
      "basinhopping step 46: f -56.3977 trial_f inf accepted 0  lowest_f -56.3977\n",
      "warning: basinhopping: local minimization failure\n",
      "basinhopping step 47: f -56.3977 trial_f inf accepted 0  lowest_f -56.3977\n",
      "warning: basinhopping: local minimization failure\n",
      "basinhopping step 48: f -56.3977 trial_f inf accepted 0  lowest_f -56.3977\n",
      "warning: basinhopping: local minimization failure\n",
      "basinhopping step 49: f -56.3977 trial_f inf accepted 0  lowest_f -56.3977\n",
      "adaptive stepsize: acceptance rate 0.000000 target 0.500000 new stepsize 0.45 old stepsize 0.5\n",
      "warning: basinhopping: local minimization failure\n",
      "basinhopping step 50: f -56.3977 trial_f inf accepted 0  lowest_f -56.3977\n",
      "warning: basinhopping: local minimization failure\n",
      "basinhopping step 51: f -56.3977 trial_f inf accepted 0  lowest_f -56.3977\n",
      "warning: basinhopping: local minimization failure\n",
      "basinhopping step 52: f -56.3977 trial_f inf accepted 0  lowest_f -56.3977\n",
      "warning: basinhopping: local minimization failure\n",
      "basinhopping step 53: f -56.3977 trial_f inf accepted 0  lowest_f -56.3977\n",
      "warning: basinhopping: local minimization failure\n",
      "basinhopping step 54: f -56.3977 trial_f inf accepted 0  lowest_f -56.3977\n",
      "warning: basinhopping: local minimization failure\n",
      "basinhopping step 55: f -56.3977 trial_f inf accepted 0  lowest_f -56.3977\n",
      "warning: basinhopping: local minimization failure\n",
      "basinhopping step 56: f -56.3977 trial_f inf accepted 0  lowest_f -56.3977\n",
      "warning: basinhopping: local minimization failure\n",
      "basinhopping step 57: f -56.3977 trial_f inf accepted 0  lowest_f -56.3977\n",
      "warning: basinhopping: local minimization failure\n",
      "basinhopping step 58: f -56.3977 trial_f inf accepted 0  lowest_f -56.3977\n",
      "warning: basinhopping: local minimization failure\n",
      "basinhopping step 59: f -56.3977 trial_f -6.61906 accepted 0  lowest_f -56.3977\n",
      "warning: basinhopping: local minimization failure\n",
      "basinhopping step 60: f -56.3977 trial_f inf accepted 0  lowest_f -56.3977\n",
      "warning: basinhopping: local minimization failure\n",
      "basinhopping step 61: f -56.3977 trial_f inf accepted 0  lowest_f -56.3977\n",
      "warning: basinhopping: local minimization failure\n",
      "basinhopping step 62: f -56.3977 trial_f inf accepted 0  lowest_f -56.3977\n",
      "basinhopping step 63: f -56.3977 trial_f 16.9029 accepted 0  lowest_f -56.3977\n",
      "warning: basinhopping: local minimization failure\n",
      "basinhopping step 64: f -56.3977 trial_f inf accepted 0  lowest_f -56.3977\n",
      "warning: basinhopping: local minimization failure\n",
      "basinhopping step 65: f -56.3977 trial_f inf accepted 0  lowest_f -56.3977\n",
      "warning: basinhopping: local minimization failure\n",
      "basinhopping step 66: f -56.3977 trial_f inf accepted 0  lowest_f -56.3977\n",
      "warning: basinhopping: local minimization failure\n",
      "basinhopping step 67: f -56.3977 trial_f inf accepted 0  lowest_f -56.3977\n",
      "warning: basinhopping: local minimization failure\n",
      "basinhopping step 68: f -56.3977 trial_f inf accepted 0  lowest_f -56.3977\n",
      "warning: basinhopping: local minimization failure\n",
      "basinhopping step 69: f -56.3977 trial_f inf accepted 0  lowest_f -56.3977\n",
      "warning: basinhopping: local minimization failure\n",
      "basinhopping step 70: f -56.3977 trial_f inf accepted 0  lowest_f -56.3977\n",
      "warning: basinhopping: local minimization failure\n",
      "basinhopping step 71: f -56.3977 trial_f inf accepted 0  lowest_f -56.3977\n",
      "warning: basinhopping: local minimization failure\n",
      "basinhopping step 72: f -56.3977 trial_f inf accepted 0  lowest_f -56.3977\n",
      "warning: basinhopping: local minimization failure\n",
      "basinhopping step 73: f -56.3977 trial_f inf accepted 0  lowest_f -56.3977\n",
      "warning: basinhopping: local minimization failure\n",
      "basinhopping step 74: f -56.3977 trial_f inf accepted 0  lowest_f -56.3977\n",
      "warning: basinhopping: local minimization failure\n",
      "basinhopping step 75: f -56.3977 trial_f inf accepted 0  lowest_f -56.3977\n",
      "warning: basinhopping: local minimization failure\n",
      "basinhopping step 76: f -56.3977 trial_f 218117 accepted 0  lowest_f -56.3977\n",
      "warning: basinhopping: local minimization failure\n",
      "basinhopping step 77: f -56.3977 trial_f -55.4283 accepted 0  lowest_f -56.3977\n",
      "warning: basinhopping: local minimization failure\n",
      "basinhopping step 78: f -56.3977 trial_f inf accepted 0  lowest_f -56.3977\n",
      "warning: basinhopping: local minimization failure\n",
      "basinhopping step 79: f -56.3977 trial_f inf accepted 0  lowest_f -56.3977\n",
      "warning: basinhopping: local minimization failure\n",
      "basinhopping step 80: f -56.3977 trial_f inf accepted 0  lowest_f -56.3977\n",
      "warning: basinhopping: local minimization failure\n",
      "basinhopping step 81: f -56.3977 trial_f inf accepted 0  lowest_f -56.3977\n",
      "warning: basinhopping: local minimization failure\n",
      "basinhopping step 82: f -56.3977 trial_f inf accepted 0  lowest_f -56.3977\n",
      "warning: basinhopping: local minimization failure\n",
      "basinhopping step 83: f -56.3977 trial_f inf accepted 0  lowest_f -56.3977\n",
      "warning: basinhopping: local minimization failure\n",
      "basinhopping step 84: f -56.3977 trial_f inf accepted 0  lowest_f -56.3977\n",
      "warning: basinhopping: local minimization failure\n",
      "basinhopping step 85: f -56.3977 trial_f inf accepted 0  lowest_f -56.3977\n",
      "warning: basinhopping: local minimization failure\n",
      "basinhopping step 86: f -56.3977 trial_f inf accepted 0  lowest_f -56.3977\n",
      "warning: basinhopping: local minimization failure\n",
      "basinhopping step 87: f -56.3977 trial_f inf accepted 0  lowest_f -56.3977\n",
      "warning: basinhopping: local minimization failure\n",
      "basinhopping step 88: f -56.3977 trial_f inf accepted 0  lowest_f -56.3977\n",
      "warning: basinhopping: local minimization failure\n",
      "basinhopping step 89: f -56.3977 trial_f inf accepted 0  lowest_f -56.3977\n",
      "warning: basinhopping: local minimization failure\n",
      "basinhopping step 90: f -56.3977 trial_f inf accepted 0  lowest_f -56.3977\n",
      "warning: basinhopping: local minimization failure\n",
      "basinhopping step 91: f -56.3977 trial_f inf accepted 0  lowest_f -56.3977\n",
      "warning: basinhopping: local minimization failure\n",
      "basinhopping step 92: f -56.3977 trial_f inf accepted 0  lowest_f -56.3977\n",
      "warning: basinhopping: local minimization failure\n",
      "basinhopping step 93: f -56.3977 trial_f inf accepted 0  lowest_f -56.3977\n",
      "warning: basinhopping: local minimization failure\n",
      "basinhopping step 94: f -56.3977 trial_f inf accepted 0  lowest_f -56.3977\n",
      "warning: basinhopping: local minimization failure\n",
      "basinhopping step 95: f -56.3977 trial_f inf accepted 0  lowest_f -56.3977\n",
      "warning: basinhopping: local minimization failure\n",
      "basinhopping step 96: f -56.3977 trial_f inf accepted 0  lowest_f -56.3977\n",
      "warning: basinhopping: local minimization failure\n",
      "basinhopping step 97: f -56.3977 trial_f inf accepted 0  lowest_f -56.3977\n",
      "basinhopping step 98: f -56.1305 trial_f -56.1305 accepted 1  lowest_f -56.3977\n",
      "warning: basinhopping: local minimization failure\n",
      "basinhopping step 99: f -56.1305 trial_f inf accepted 0  lowest_f -56.3977\n",
      "adaptive stepsize: acceptance rate 0.010000 target 0.500000 new stepsize 0.405 old stepsize 0.45\n",
      "warning: basinhopping: local minimization failure\n",
      "basinhopping step 100: f -56.1305 trial_f inf accepted 0  lowest_f -56.3977\n",
      "All done! Best score: `56.39771666720353`.\n"
     ]
    }
   ],
   "source": [
    "guess = eps + ((1.0 - 2.0 * eps) * np.random.rand(my_model.get_num_free_parameters()))\n",
    "\n",
    "results = scipy.optimize.basinhopping(my_func, guess, disp=True, niter=100, minimizer_kwargs={\n",
    "    'method': \"SLSQP\", 'bounds': bounds})\n",
    "best_x = results.x\n",
    "\n",
    "print('All done! Best score: `{}`.'.format(-results.fun))"
   ]
  },
  {
   "cell_type": "markdown",
   "metadata": {},
   "source": [
    "Now, plot the results of the above minimization alongside your original `differential_evolution` solution."
   ]
  },
  {
   "cell_type": "code",
   "execution_count": 11,
   "metadata": {},
   "outputs": [
    {
     "data": {
      "image/png": "[encoded data removed]",
      "text/plain": [
       "<matplotlib.figure.Figure at 0x11504a1d0>"
      ]
     },
     "metadata": {
      "image/png": {
       "height": 250,
       "width": 379
      }
     },
     "output_type": "display_data"
    }
   ],
   "source": [
    "output = my_model.run_stack(best_x, root='output')\n",
    "mtimes2 = []\n",
    "mmags2 = []\n",
    "\n",
    "for ti, t in enumerate(output['times']):\n",
    "    mtimes2.append(t + min(times))\n",
    "    mmags2.append(output['model_observations'][ti])\n",
    "\n",
    "plt.errorbar(times, mags, yerr=errs, fmt='o')\n",
    "plt.plot(mtimes, mmags)\n",
    "plt.plot(mtimes2, mmags2, c='r')\n",
    "plt.xlim(min(times) - 10, max(times) + 10)\n",
    "plt.ylim(min(mags) - 0.5, max(mags) + 0.5)\n",
    "plt.gca().invert_yaxis()\n",
    "plt.show()"
   ]
  },
  {
   "cell_type": "markdown",
   "metadata": {},
   "source": [
    "After this process, **some** of you **might** have gotten a good solution with a runtime of a few minutes. In practice, guaranteed convergence to the best solution can take a very long time. Whats more, we only attempted to find the **best** solution available, usually we are interested in posterior distributions that (usually) include the best solution. These take even longer to compute (tens of thousands of function evaluations for a problem of this size)."
   ]
  },
  {
   "cell_type": "markdown",
   "metadata": {},
   "source": [
    "## Problem 2\n",
    "\n",
    "Now, we'll construct our own simpler model that is **analytically differentiable**. We'll partly motivate the shape of this function based upon our knowledge of how tidal disruption events are expected to behave theoretically, but there will be limitations."
   ]
  },
  {
   "cell_type": "markdown",
   "metadata": {},
   "source": [
    "First, let's define a function that loosely mimics a tidal disruption event's temporal evolution. Tidal disruption events rise exponentially, then decay as a power-law. Canonically, the decay rate is -5/3, and the rise is very unconstrained, being mediated by complicated dynamics and accretion physics that have yet to be determined. So, we use the following agnostic form,"
   ]
  },
  {
   "cell_type": "markdown",
   "metadata": {},
   "source": [
    "$$L(t) = L_0 \\left(1-e^{-\\frac{t}{t_0}}\\right)^{\\alpha } \\left(\\frac{t}{t_0}\\right)^{-\\beta }.$$"
   ]
  },
  {
   "cell_type": "markdown",
   "metadata": {},
   "source": [
    "Tidal disruption observations are usually reported in magnitudes, thus the expression we'll actually compare against observations is"
   ]
  },
  {
   "cell_type": "markdown",
   "metadata": {},
   "source": [
    "$$m(t) = m_0 - 2.5 \\log_{10}\\left[\\left(1-e^{-\\frac{t}{t_0}}\\right)^{\\alpha } \\left(\\frac{t}{t_0}\\right)^{-\\beta }\\right].$$"
   ]
  },
  {
   "cell_type": "markdown",
   "metadata": {},
   "source": [
    "To calculate the likelihood, we want to subtract the above from the observations. We'll make the gross assumption that the color of a tidal disruption is constant in time (which turns out to not be a terrible assumption) and thus $L_{\\rm g}(t) \\propto L(t)$."
   ]
  },
  {
   "cell_type": "markdown",
   "metadata": {},
   "source": [
    "Our likelihood function will be defined as the product of the squares of differences between our model and observation,\n",
    "\n",
    "$$p = \\prod_i \\frac{1}{\\sqrt{2\\pi (\\sigma_i^2 + \\sigma^2)}} \\left(\\frac{m_{{\\rm g}, i} - \\bar{m}_{{\\rm g}, i}}{\\sigma_i^2 + \\sigma^2}\\right),$$"
   ]
  },
  {
   "cell_type": "markdown",
   "metadata": {},
   "source": [
    "and thus our log likelihood is the sum of these squared differences, plus a separate sum for the variances,\n",
    "\n",
    "$$\\log p = -\\frac{1}{2} \\left[\\sum_i \\left(m_{{\\rm g}, i} - \\bar{m}_{{\\rm g}, i}\\right) + \\log 2\\pi \\left(\\sigma_i^2 + \\sigma^2\\right)\\right].$$"
   ]
  },
  {
   "cell_type": "markdown",
   "metadata": {},
   "source": [
    "** Problem 2a **\n",
    "\n",
    "Compute the derivatives for $\\log p$ (above expression) with respect to $m_0$, $\\alpha$, $\\beta$, $t_0$, and $\\sigma$ (Mathematica might be helpful here)."
   ]
  },
  {
   "cell_type": "markdown",
   "metadata": {},
   "source": [
    "**Problem 2a Solution**\n",
    "\n",
    "$$\n",
    "\\begin{align}\n",
    "\\frac{\\partial\\log p}{\\partial m_0} &= m_0-\\frac{5 \\log \\left[\\left(1-e^{-\\frac{t_i}{t_0}}\\right)^{\\alpha } \\left(\\frac{t_i}{t_0}\\right)^{-\\beta }\\right]}{2 \\log (10)}\\\\\n",
    "\\frac{\\partial\\log p}{\\partial \\alpha} &= 2 \\left\\{-\\frac{5 \\log \\left[\\left(1-e^{-\\frac{t}{t_0}}\\right)^{\\alpha } \\left(\\frac{t}{t_0}\\right)^{-\\beta }\\right]}{\\log (100)}-\\bar{m}+m_0\\right\\}^{-1}\\\\\n",
    "\\frac{\\partial\\log p}{\\partial \\beta} &= -\\frac{10 \\log \\left(1-e^{-\\frac{t}{t_0}}\\right)}{2 \\log (10) (m_0-\\bar{m})-5 \\log \\left[\\left(1-e^{-\\frac{t}{t_0}}\\right)^{\\alpha } \\left(\\frac{t}{t_0}\\right)^{-\\beta }\\right]}\\\\\n",
    "\\frac{\\partial\\log p}{\\partial t_0} &= \\frac{10 \\log \\left(\\frac{t}{t_0}\\right)}{2 \\log (10) (m_0-\\bar{m})-5 \\log \\left[\\left(1-e^{-\\frac{t}{t_0}}\\right)^{\\alpha } \\left(\\frac{t}{t_0}\\right)^{-\\beta }\\right]}\\\\\n",
    "\\frac{\\partial\\log p}{\\partial \\sigma} &= \\frac{10 \\left[\\alpha  t-\\beta  t_0 \\left(e^{t/t_0}-1\\right)\\right]}{t_0^2 \\left(e^{t/t_0}-1\\right) \\left\\{2 \\log (10) (m_0-\\bar{m})-5 \\log \\left[\\left(1-e^{-\\frac{t}{t_0}}\\right)^{\\alpha } \\left(\\frac{t}{t_0}\\right)^{-\\beta }\\right]\\right\\}}\n",
    "\\end{align}\n",
    "$$"
   ]
  },
  {
   "cell_type": "markdown",
   "metadata": {},
   "source": [
    "**Problem 2b**\n",
    "\n",
    "Write each of these derivatives as python functions. These functions should accept a single vector argument `x` with length equal to the number of free parameters, plus a vector $t$ (the times of the observation) and a vector $m$ (the magnitudes of each observation)."
   ]
  },
  {
   "cell_type": "code",
   "execution_count": 45,
   "metadata": {},
   "outputs": [
    {
     "name": "stdout",
     "output_type": "stream",
     "text": [
      "[ 20.94100225  20.99600042]\n",
      "[-0.71539356  1.64435991]\n",
      "[-2.48065784  0.4989981 ]\n",
      "[ 2.42836594  0.        ]\n",
      "[-1.5604653  -0.22147649]\n"
     ]
    }
   ],
   "source": [
    "def lf(alpha, beta, t0, t):\n",
    "    return np.log(((1.0 - np.exp(-t / t0)) ** alpha) * (t / t0) ** (-beta))\n",
    "\n",
    "def dlogp_dm0(x, tt, mm):\n",
    "    m0, alpha, beta, t0, sigma = tuple(x)\n",
    "    t = np.array(tt)\n",
    "    \n",
    "    derivs = m0 - 5.0 / (2.0 * np.log(10.0)) * lf(alpha, beta, t0, t)\n",
    "    \n",
    "    return derivs\n",
    "\n",
    "def dlogp_dalpha(x, tt, mm):\n",
    "    m0, alpha, beta, t0, sigma = tuple(x)\n",
    "    t = np.array(tt)\n",
    "    m = np.array(mm)\n",
    "    \n",
    "    derivs = 2.0 / (-5.0 / (2.0 * np.log(10.0)) * lf(alpha, beta, t0, t) / np.log(100.0) - m + m0)\n",
    "    \n",
    "    return derivs\n",
    "\n",
    "def dlogp_dbeta(x, tt, mm):\n",
    "    m0, alpha, beta, t0, sigma = tuple(x)\n",
    "    t = np.array(tt)\n",
    "    m = np.array(mm)\n",
    "    \n",
    "    derivs = -10.0 * np.log(1.0 - np.exp(-t / t0))/(\n",
    "        2.0 * np.log(10.0) * (m0 - m) - 5.0 * lf(alpha, beta, t0, t))\n",
    "    \n",
    "    return derivs\n",
    "\n",
    "def dlogp_dt0(x, tt, mm):\n",
    "    m0, alpha, beta, t0, sigma = tuple(x)\n",
    "    t = np.array(tt)\n",
    "    m = np.array(mm)\n",
    "    \n",
    "    derivs = 10.0 * np.log(t / t0)/(2.0 * np.log(10.0) * (m0 - m) - 5.0 * lf(alpha, beta, t0, t))\n",
    "    \n",
    "    return derivs\n",
    "\n",
    "def dlogp_dsigma(x, tt, mm):\n",
    "    m0, alpha, beta, t0, sigma = tuple(x)\n",
    "    t = np.array(tt)\n",
    "    m = np.array(mm)\n",
    "    \n",
    "    derivs = (10.0 * (alpha * t - beta * t0 * np.exp(-t / t0) - 1.0))/(t0 ** 2.0 * (np.exp(-t / t0) - 1.0) * (\n",
    "        2.0 * np.log(10.0) * (m0 - m) - 5.0 * lf(alpha, beta, t0, t)))\n",
    "    \n",
    "    return derivs\n",
    "\n",
    "test_times = [1.0, 10.0]\n",
    "test_mags = [23.0, 19.0]\n",
    "test_x = [20, 2.0, 5.0/3.0, 10.0, 1.0]\n",
    "print(dlogp_dm0(test_x, test_times, test_mags))\n",
    "print(dlogp_dalpha(test_x, test_times, test_mags))\n",
    "print(dlogp_dbeta(test_x, test_times, test_mags))\n",
    "print(dlogp_dt0(test_x, test_times, test_mags))\n",
    "print(dlogp_dsigma(test_x, test_times, test_mags))"
   ]
  },
  {
   "cell_type": "markdown",
   "metadata": {},
   "source": [
    "Alright, now we have an analytical function with analytical derivatives that should be accurate to near-machine precision. First, let's optimize our function using `differential_evolution`, as we did above, without using the derivatives we have constructed."
   ]
  },
  {
   "cell_type": "code",
   "execution_count": null,
   "metadata": {},
   "outputs": [],
   "source": []
  },
  {
   "cell_type": "markdown",
   "metadata": {},
   "source": [
    "## Challenge Problem\n",
    "\n",
    "Complete the following problem, which can be arbitrarily difficult."
   ]
  },
  {
   "cell_type": "code",
   "execution_count": null,
   "metadata": {
    "collapsed": true
   },
   "outputs": [],
   "source": [
    "# no code snippets provided here"
   ]
  }
 ],
 "metadata": {
  "kernelspec": {
   "display_name": "Python 3",
   "language": "python",
   "name": "python3"
  },
  "language_info": {
   "codemirror_mode": {
    "name": "ipython",
    "version": 3
   },
   "file_extension": ".py",
   "mimetype": "text/x-python",
   "name": "python",
   "nbconvert_exporter": "python",
   "pygments_lexer": "ipython3",
   "version": "3.6.3"
  }
 },
 "nbformat": 4,
 "nbformat_minor": 2
}
